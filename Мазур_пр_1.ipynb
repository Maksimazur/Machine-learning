{
  "metadata": {
    "kernelspec": {
      "name": "python",
      "display_name": "Python (Pyodide)",
      "language": "python"
    },
    "language_info": {
      "codemirror_mode": {
        "name": "python",
        "version": 3
      },
      "file_extension": ".py",
      "mimetype": "text/x-python",
      "name": "python",
      "nbconvert_exporter": "python",
      "pygments_lexer": "ipython3",
      "version": "3.8"
    }
  },
  "nbformat_minor": 4,
  "nbformat": 4,
  "cells": [
    {
      "cell_type": "code",
      "source": "#Завдання 1, варіант 15\n#Створіть одновимірний масив (вектор) з простими числами, не перевищуючи 70, та виведіть його значення.\n\nimport numpy as np\na = np.array([])\n\nfor num in range(2,70):\n    prime = True\n    for i in range(2,num):\n        if (num%i==0):\n            prime = False\n    if prime:\n        a = np.append(a, np.array([num]))\n\nprint(\"Матриця a:\", a)",
      "metadata": {
        "trusted": true
      },
      "outputs": [
        {
          "name": "stdout",
          "text": "Матриця a: [ 2.  3.  5.  7. 11. 13. 17. 19. 23. 29. 31. 37. 41. 43. 47. 53. 59. 61.\n 67.]\n",
          "output_type": "stream"
        }
      ],
      "execution_count": 1
    },
    {
      "cell_type": "code",
      "source": "#Завдання 2, варіант 15\n#Створіть двовимірний масив (матрицю) розміром 3x3, заповніть його значеннями квадратів перших натуральних чисел.\n\nb = np.array([[1, 2, 3], [4, 5, 6], [7, 8, 9]])\nb = b**2\nprint(\"Матриця b:\")\nprint(b)",
      "metadata": {
        "trusted": true
      },
      "outputs": [
        {
          "name": "stdout",
          "text": "Матриця b:\n[[ 1  4  9]\n [16 25 36]\n [49 64 81]]\n",
          "output_type": "stream"
        }
      ],
      "execution_count": 2
    },
    {
      "cell_type": "code",
      "source": "#Завдання 3, варіант 15\n#Створіть масив розміром 5x5, заповніть його випадковими цілими числами від -10 до 10 та знайдіть максимальний елемент.\n\nc = np.random.randint(-10,11, size=(5,5))\nprint(\"Матриця c:\")\nprint(c)\n\nprint(\"Максимальний елемент: \", c.max())",
      "metadata": {
        "trusted": true
      },
      "outputs": [
        {
          "name": "stdout",
          "text": "Матриця c:\n[[ -6 -10   9  -3   8]\n [  7  -3  -9  -2  -9]\n [ 10  -1  -6   8  -9]\n [ -3  10  -2  -8  -8]\n [  3  -9  -5  -2   7]]\nМаксимальний елемент:  10\n",
          "output_type": "stream"
        }
      ],
      "execution_count": 3
    },
    {
      "cell_type": "code",
      "source": "#Завдання 4, варіант 15\n#Створіть масив розміром 4x4, заповніть його випадковими дійсними числами в діапазоні від 0 до 1 та знайдіть вектор-рядок,\n#що містить максимальні елементи в кожному стовпці.\n\nd = np.random.randint(0,2, size=(4,4))\nprint(\"Матриця d:\")\nprint(d)\n\nprint(\"Рядок, що містить максимальні елементи: \", d.max(0))",
      "metadata": {
        "trusted": true
      },
      "outputs": [
        {
          "name": "stdout",
          "text": "Матриця d:\n[[0 1 0 0]\n [1 1 0 0]\n [1 1 1 0]\n [1 0 0 1]]\nРядок, що містить максимальні елементи:  [1 1 1 1]\n",
          "output_type": "stream"
        }
      ],
      "execution_count": 4
    },
    {
      "cell_type": "code",
      "source": "#Завдання 5, варіант 15\n#Створіть два одновимірних масиви розміром 7, заповніть їх випадковими цілими числами в діапазоні від -10 до 10\n#та виконайте на них поелементні операції додавання, віднімання та множення.\n\ne = np.random.randint(-10, 11, size=(7))\nf = np.random.randint(-10, 11, size=(7))\n\nprint(\"Масив e:\")\nprint(e)\nprint(\"Масив f:\")\nprint(f)\nprint()\n\ne = e+2\nprint(\"Масив e після додавання +2:\")\nprint(e)\nf = f+2\nprint(\"Масив f після додавання +2:\")\nprint(f)\nprint()\n\ne = e-3\nprint(\"Масив e після віднімання -3:\")\nprint(e)\nf = f-3\nprint(\"Масив f після додавання -3:\")\nprint(f)\nprint()\n\ne = e*2\nprint(\"Масив e після множення на 2:\")\nprint(e)\nf = f*2\nprint(\"Масив f після множення на 2:\")\nprint(f)",
      "metadata": {
        "trusted": true
      },
      "outputs": [
        {
          "name": "stdout",
          "text": "Масив e:\n[-10   9 -10  -5  -8  -6   7]\nМасив f:\n[-9 10 -1  8  7  1  6]\n\nМасив e після додавання +2:\n[-8 11 -8 -3 -6 -4  9]\nМасив f після додавання +2:\n[-7 12  1 10  9  3  8]\n\nМасив e після віднімання -3:\n[-11   8 -11  -6  -9  -7   6]\nМасив f після додавання -3:\n[-10   9  -2   7   6   0   5]\n\nМасив e після множення на 2:\n[-22  16 -22 -12 -18 -14  12]\nМасив f після множення на 2:\n[-20  18  -4  14  12   0  10]\n",
          "output_type": "stream"
        }
      ],
      "execution_count": 5
    },
    {
      "cell_type": "code",
      "source": "#Завдання 6, варіант 15\n#Створіть дві матриці 4x4, заповніть їх довільними цілими числами від -10 до 10 та знайдіть їх добуток.\n\ng = np.random.randint(-10, 11, size=(4,4))\nh = np.random.randint(-10, 11, size=(4,4))\n\nprint(\"Матриця g:\")\nprint(g)\nprint(\"Матриця h:\")\nprint(h)\n\ngh = np.dot(g, h)\nprint(\"Добуток матриць g та h:\")\nprint(gh)",
      "metadata": {
        "trusted": true
      },
      "outputs": [
        {
          "name": "stdout",
          "text": "Матриця g:\n[[ -4   9   1   3]\n [ -2   5   0   9]\n [  7  10   7   7]\n [  7  -2 -10  -2]]\nМатриця h:\n[[ -3  -6   3   3]\n [ -4  -6  -8  -5]\n [-10  -2  -8   7]\n [ -1  -5   3   9]]\nДобуток матриць g та h:\n[[ -37  -47  -83  -23]\n [ -23  -63  -19   50]\n [-138 -151  -94   83]\n [  89    0  111  -57]]\n",
          "output_type": "stream"
        }
      ],
      "execution_count": 6
    },
    {
      "cell_type": "code",
      "source": "#Завдання 7, варіант 15\n#Створіть дві матриці розміром 4x2 та 2x2,\n#заповніть їх випадковими цілими числами в діапазоні від 1 до 3 та перемножте їх між собою.\n\nimport numpy as np\ni = np.random.randint(1, 4, size=(4,2))\nj = np.random.randint(1, 4, size=(2,2))\n\nprint(\"Матриця i:\")\nprint(i)\nprint(\"Матриця j:\")\nprint(j)\n\nij = np.dot(i, j)\nprint(\"Добуток матриць i та j:\")\nprint(ij)",
      "metadata": {
        "trusted": true
      },
      "outputs": [
        {
          "name": "stdout",
          "text": "Матриця i:\n[[3 2]\n [2 1]\n [1 3]\n [1 3]]\nМатриця j:\n[[1 3]\n [2 1]]\nДобуток матриць i та j:\n[[ 7 11]\n [ 4  7]\n [ 7  6]\n [ 7  6]]\n",
          "output_type": "stream"
        }
      ],
      "execution_count": 8
    },
    {
      "cell_type": "code",
      "source": "#Завдання 8, варіант 15\n#Створіть матрицю розміром 2x2, заповніть її випадковими цілими числами в діапазоні\n#від 1 до 7 та знайдіть її обернену матрицю\n\nk = np.random.randint(1, 8, size=(2,2))\n\nprint(\"Матриця k:\")\nprint(k)\n\nk_inv = np.linalg.inv(k)\nprint(\"Обернена матриця k:\")\nprint(k_inv)",
      "metadata": {
        "trusted": true
      },
      "outputs": [
        {
          "name": "stdout",
          "text": "Матриця k:\n[[2 3]\n [2 2]]\nОбернена матриця k:\n[[-1.   1.5]\n [ 1.  -1. ]]\n",
          "output_type": "stream"
        }
      ],
      "execution_count": 9
    },
    {
      "cell_type": "code",
      "source": "#Завдання 9, варіант 15\n#Створіть матрицю розміром 3x5, заповніть її випадковими цілими числами в діапазоні\n#від 0 до 1 та транспонуйте її.\n\nl = np.random.randint(0, 2, size=(3,5))\n\nprint(\"Матриця l:\")\nprint(l)\n\nl_tr = l.transpose()\nprint(\"Транспонована матриця l:\")\nprint(l_tr)",
      "metadata": {
        "trusted": true
      },
      "outputs": [
        {
          "name": "stdout",
          "text": "Матриця l:\n[[1 0 1 1 0]\n [0 0 1 1 0]\n [1 1 0 1 0]]\nТранспонована матриця l:\n[[1 0 1]\n [0 0 1]\n [1 1 0]\n [1 1 1]\n [0 0 0]]\n",
          "output_type": "stream"
        }
      ],
      "execution_count": 11
    },
    {
      "cell_type": "code",
      "source": "#Завдання 10, варіант 15\n#Створіть матрицю розміром 3x4 та вектор розміром 4x1, заповніть матрицю\n#випадковими дійсними числами від 0 до 1, а вектор - випадковими цілими числами\n#в діапазоні від 1 до 10, і знайдіть добуток матриці на вектор.\n\nm = np.random.randint(0, 2, size=(3,4))\nn = np.random.randint(1, 11, size=(4))\n\nprint(\"Матриця m:\")\nprint(m)\nprint(\"Вектор n:\")\nprint(n)\n\nmn = np.dot(m, n)\nprint(\"Добуток матриці m та вектору n:\")\nprint(mn)",
      "metadata": {
        "trusted": true
      },
      "outputs": [
        {
          "name": "stdout",
          "text": "Матриця m:\n[[0 1 1 1]\n [1 1 0 1]\n [0 1 1 1]]\nВектор n:\n[5 7 3 9]\nДобуток матриці m та вектору n:\n[19 21 19]\n",
          "output_type": "stream"
        }
      ],
      "execution_count": 12
    },
    {
      "cell_type": "code",
      "source": "#Завдання 11, варіант 15\n#Створіть матрицю розміром 2x3 та вектор розміром 3x1, заповніть матрицю\n#випадковими дійсними числами від 0 до 1, а вектор - випадковими дійсними числами\n#від 0 до 1, і знайдіть суму елементів матриці, які менше за відповідний елемент вектору.\n\no = np.random.uniform(0, 1, size=(2,3))\np = np.random.uniform(0, 1, size=(3))\no = np.round(o, 2)\np = np.round(p, 2)\n\nprint(\"Матриця o:\")\nprint(o)\nprint(\"Вектор p:\")\nprint(p)\n\nsum = 0\nfor i in range(len(o)):\n    for j in range(len(p)):\n        if (o[i][j] < p[j]):\n            sum = sum + o[i][j]\n\nprint(\"Сума елементів матриці o, що менше за відповідний елемент вектору p:\")\nprint(sum)",
      "metadata": {
        "trusted": true
      },
      "outputs": [
        {
          "name": "stdout",
          "text": "Матриця o:\n[[0.65 0.14 0.94]\n [0.99 0.73 0.25]]\nВектор p:\n[0.61 0.99 0.25]\nСума елементів матриці o, що менше за відповідний елемент вектору p:\n0.87\n",
          "output_type": "stream"
        }
      ],
      "execution_count": 29
    },
    {
      "cell_type": "code",
      "source": "#Завдання 12, варіант 15\n#Створіть дві матриці розміром 8x8, заповніть їх випадковими цілими числами\n#в діапазоні від 1 до 10 та знайдіть їхню суму.\n\nq = np.random.randint(1, 11, size=(8,8))\nr = np.random.randint(1, 11, size=(8,8))\n\nprint(\"Матриця q:\")\nprint(q)\nprint(\"Матриця r:\")\nprint(r)\n\nqr = q + r\nprint(\"Сума матриць q та r:\")\nprint(qr)",
      "metadata": {
        "trusted": true
      },
      "outputs": [
        {
          "name": "stdout",
          "text": "Матриця q:\n[[ 5  9  9  3 10  2 10  9]\n [ 5  9  5  8  8  9  6 10]\n [ 1  2  3  2  9  3  6 10]\n [ 7  5  7  7  6  4  6  1]\n [ 1  8  9  6  4 10  6  8]\n [ 1  5  4  6  5  6  7 10]\n [ 5  8  6  1  2 10  3  3]\n [ 6  5  9  9  4  5  7  5]]\nМатриця r:\n[[ 6 10  6  5  2  7  1  7]\n [ 8 10  2  6  1  3  2 10]\n [ 3  3  7 10 10 10  5  4]\n [ 8 10  7  8  7  2  3  4]\n [ 1  6  4  2  7  9  9  3]\n [ 2  5  3  3 10  3 10  1]\n [ 7  3  9 10  7  2  1  2]\n [ 2  4  9  4  8  4  1  7]]\nСума матриць q та r:\n[[11 19 15  8 12  9 11 16]\n [13 19  7 14  9 12  8 20]\n [ 4  5 10 12 19 13 11 14]\n [15 15 14 15 13  6  9  5]\n [ 2 14 13  8 11 19 15 11]\n [ 3 10  7  9 15  9 17 11]\n [12 11 15 11  9 12  4  5]\n [ 8  9 18 13 12  9  8 12]]\n",
          "output_type": "stream"
        }
      ],
      "execution_count": 30
    },
    {
      "cell_type": "code",
      "source": "#Завдання 13, варіант 15\n#Створіть дві матриці розміром 3x3, заповніть їх випадковими дійсними числами\n#в діапазоні від -1 до 1 та знайдіть добуток їх елементів.\n\ns = np.random.uniform(-1, 1, size=(3,3))\nt = np.random.uniform(-1, 1, size=(3,3))\ns = np.round(s, 2)\nt = np.round(t, 2)\n\nprint(\"Матриця s:\")\nprint(s)\nprint(\"Матриця t:\")\nprint(t)\n\nst = np.dot(s, t)\nprint(\"Добуток матриць s та t:\")\nprint(mn)",
      "metadata": {
        "trusted": true
      },
      "outputs": [
        {
          "name": "stdout",
          "text": "Матриця s:\n[[ 0.62  0.52 -0.02]\n [-0.52 -0.36  0.45]\n [ 0.12  0.75  0.84]]\nМатриця t:\n[[ 0.73 -0.7   0.67]\n [ 0.05 -0.57 -0.59]\n [ 0.88 -0.59  0.93]]\nДобуток матриць s та t:\n[19 21 19]\n",
          "output_type": "stream"
        }
      ],
      "execution_count": 32
    },
    {
      "cell_type": "code",
      "source": "#Завдання 14, варіант 15\n#Створіть матрицю розміром 3x3, заповніть її випадковими дійсними числами\n#в діапазоні від -5 до 5 та знайдіть добуток елементів матриці, які більше\n#за її середнє арифметичне значення.\n\nu = np.random.randint(-5, 6, size=(3,3))\n\nprint(\"Матриця u:\")\nprint(u)\n\nu_mean = u.mean()\nu_mean = np.round(u_mean, 2)\nprint(\"Середнє арифметичне значення матриці u:\")\nprint(u_mean)\n\nproduct = 1\nfor i in range(len(u)):\n    for j in range(len(u)):\n        if (u[i][j] > u_mean):\n            product = product * u[i][j]\n\nif (product == 1):\n    print(\"У матриці u відсутні елементи, що більше за її середнє арифметичне значення\")\nelse:\n    print(\"Добуток елементів матриці u, що більше за її середнє арифметичне значення:\")\n    print(product)",
      "metadata": {
        "trusted": true
      },
      "outputs": [
        {
          "name": "stdout",
          "text": "Матриця u:\n[[ 4  1  4]\n [ 1  5 -3]\n [-4  5  2]]\nСереднє арифметичне значення матриці u:\n1.67\nДобуток елементів матриці u, що більше за її середнє арифметичне значення:\n800\n",
          "output_type": "stream"
        }
      ],
      "execution_count": 37
    },
    {
      "cell_type": "code",
      "source": "#Завдання 15, варіант 15\n#Створіть матрицю розміром 3x3, заповніть її випадковими дійсними числами\n#в діапазоні від -0.5 до 0.5 та знайдіть вектор-стовпчик,\n#що містить найбільше за модулем ціле значення в кожному рядку матриці.\n\nv = np.random.uniform(-0.5, 0.5, size=(3,3))\nv = np.round(v, 2)\n\nprint(\"Матриця v:\")\nprint(v)\n\n#Єдине можливе ціле число у її діапазоні від -0.5 до 0.5 - це число 0, при цьому вірогодіність його появи у матриці v вкрай низька.\n#Для виконання завдання буде проведенно лише пошук найбільшого значення за модулем у кожному рядку матриці.\nw = np.zeros((3))\nfor i in range(len(v)):\n    w[i] = np.abs(v[i][0])\n    for j in range(len(v)):\n        if (np.abs(v[i][j]) > w[i]):\n            w[i] = np.abs(v[i][j])\n\nprint(\"Вектор w, що містить найбільше за модулем значення з кожного рядку матриці v:\")\nprint(w)",
      "metadata": {
        "trusted": true
      },
      "outputs": [
        {
          "name": "stdout",
          "text": "Матриця v:\n[[ 0.07 -0.42  0.08]\n [ 0.03  0.4  -0.1 ]\n [-0.06  0.07 -0.01]]\nВектор w, що містить найбільше за модулем значення з кожного рядку матриці v:\n[0.42 0.4  0.07]\n",
          "output_type": "stream"
        }
      ],
      "execution_count": 46
    },
    {
      "cell_type": "code",
      "source": "#Висновок\n#У данній лабораторній роботі було дослідженно тему машинного навчання та елементів лінійної алгебри.\n#Була проведена робота з основними функціями керування масивами та матрицями у Python, бібліотеками numpy та random.\n#Результати роботи були завантажені на відповідний Github-репозиторій.",
      "metadata": {
        "trusted": true
      },
      "outputs": [],
      "execution_count": null
    }
  ]
}